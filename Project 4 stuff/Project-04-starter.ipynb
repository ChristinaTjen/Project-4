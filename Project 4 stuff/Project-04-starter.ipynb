{
 "cells": [
  {
   "cell_type": "markdown",
   "metadata": {},
   "source": [
    "# ![](https://ga-dash.s3.amazonaws.com/production/assets/logo-9f88ae6c9c3871690e33280fcf557f33.png) Project 4: Web Scraping Job Postings\n",
    "\n",
    "## Business Case Overview\n",
    "\n",
    "You're working as a data scientist for a contracting firm that's rapidly expanding. Now that they have their most valuable employee (you!), they need to leverage data to win more contracts. Your firm offers technology and scientific solutions and wants to be competitive in the hiring market. Your principal has two main objectives:\n",
    "\n",
    "   1. Determine the industry factors that are most important in predicting the salary amounts for these data.\n",
    "   2. Determine the factors that distinguish job categories and titles from each other. For example, can required skills accurately predict job title?\n",
    "\n",
    "To limit the scope, your principal has suggested that you *focus on data-related job postings*, e.g. data scientist, data analyst, research scientist, business intelligence, and any others you might think of. You may also want to decrease the scope by *limiting your search to a single region.*\n",
    "\n",
    "Hint: Aggregators like [Indeed.com](https://www.indeed.com) regularly pool job postings from a variety of markets and industries. \n",
    "\n",
    "**Goal:** Scrape your own data from a job aggregation tool like Indeed.com in order to collect the data to best answer these two questions.\n",
    "\n",
    "---\n",
    "\n",
    "## Directions\n",
    "\n",
    "In this project you will be leveraging a variety of skills. The first will be to use the web-scraping and/or API techniques you've learned to collect data on data jobs from Indeed.com or another aggregator. Once you have collected and cleaned the data, you will use it to answer the two questions described above.\n",
    "\n",
    "### QUESTION 1: Factors that impact salary\n",
    "\n",
    "To predict salary you will be building either a classification or regression model, using features like the location, title, and summary of the job. If framing this as a regression problem, you will be estimating the listed salary amounts. You may instead choose to frame this as a classification problem, in which case you will create labels from these salaries (high vs. low salary, for example) according to thresholds (such as median salary).\n",
    "\n",
    "You have learned a variety of new skills and models that may be useful for this problem:\n",
    "- NLP\n",
    "- Unsupervised learning and dimensionality reduction techniques (PCA, clustering)\n",
    "- Ensemble methods and decision tree models\n",
    "- SVM models\n",
    "\n",
    "Whatever you decide to use, the most important thing is to justify your choices and interpret your results. *Communication of your process is key.* Note that most listings **DO NOT** come with salary information. You'll need to able to extrapolate or predict the expected salaries for these listings.\n",
    "\n",
    "### QUESTION 2: Factors that distinguish job category\n",
    "\n",
    "Using the job postings you scraped for part 1 (or potentially new job postings from a second round of scraping), identify features in the data related to job postings that can distinguish job titles from each other. There are a variety of interesting ways you can frame the target variable, for example:\n",
    "- What components of a job posting distinguish data scientists from other data jobs?\n",
    "- What features are important for distinguishing junior vs. senior positions?\n",
    "- Do the requirements for titles vary significantly with industry (e.g. healthcare vs. government)?\n",
    "\n",
    "You may end up making multiple classification models to tackle different questions. Be sure to clearly explain your hypotheses and framing, any feature engineering, and what your target variables are. The type of classification model you choose is up to you. Be sure to interpret your results and evaluate your models' performance.\n",
    "\n",
    "\n",
    "### BONUS PROBLEM\n",
    "\n",
    "Your boss would rather tell a client incorrectly that they would get a lower salary job than tell a client incorrectly that they would get a high salary job. Adjust one of your models to ease his mind, and explain what it is doing and any tradeoffs. Plot the ROC curve.\n",
    "\n",
    "---\n",
    "\n",
    "## Requirements\n",
    "\n",
    "1. Scrape and prepare your own data.\n",
    "\n",
    "2. **Create and compare at least two models for each section**. One of the two models should be a decision tree or ensemble model. The other can be a classifier or regression of your choosing (e.g. Ridge, logistic regression, KNN, SVM, etc).\n",
    "   - Section 1: Job Salary Trends\n",
    "   - Section 2: Job Category Factors\n",
    "\n",
    "3. Prepare a polished Jupyter Notebook with your analysis for a peer audience of data scientists. \n",
    "   - Make sure to clearly describe and label each section.\n",
    "   - Comment on your code so that others could, in theory, replicate your work.\n",
    "\n",
    "4. A brief writeup in an executive summary, written for a non-technical audience.\n",
    "   - Writeups should be at least 500-1000 words, defining any technical terms, explaining your approach, as well as any risks and limitations.\n",
    "\n",
    "#### BONUS\n",
    "\n",
    "5. Answer the salary discussion by using your model to explain the tradeoffs between detecting high vs low salary positions.\n",
    "\n",
    "6. Convert your executive summary into a public blog post of at least 500 words, in which you document your approach in a tutorial for other aspiring data scientists. Link to this in your notebook.\n",
    "\n",
    "---\n",
    "\n",
    "## Suggestions for Getting Started\n",
    "\n",
    "1. Collect data from [Indeed.com](www.indeed.com) (or another aggregator) on data-related jobs to use in predicting salary trends for your analysis.\n",
    "  - Select and parse data from *at least 1000 postings* for jobs, potentially from multiple location searches.\n",
    "2. Find out what factors most directly impact salaries (e.g. title, location, department, etc).\n",
    "  - Test, validate, and describe your models. What factors predict salary category? How do your models perform?\n",
    "3. Discover which features have the greatest importance when determining a low vs. high paying job.\n",
    "  - Your Boss is interested in what overall features hold the greatest significance.\n",
    "  - HR is interested in which SKILLS and KEY WORDS hold the greatest significance.   \n",
    "4. Author an executive summary that details the highlights of your analysis for a non-technical audience.\n",
    "5. If tackling the bonus question, try framing the salary problem as a classification problem detecting low vs. high salary positions.\n",
    "\n",
    "---\n",
    "\n",
    "## Useful Resources\n",
    "\n",
    "- Scraping is one of the most fun, useful and interesting skills out there. Don’t lose out by copying someone else's code!\n",
    "- [Here is some advice on how to write for a non-technical audience](http://programmers.stackexchange.com/questions/11523/explaining-technical-things-to-non-technical-people)\n",
    "- [Documentation for BeautifulSoup can be found here](http://www.crummy.com/software/BeautifulSoup/).\n",
    "\n",
    "---\n",
    "\n",
    "### Project Feedback + Evaluation\n",
    "\n",
    "For all projects, students will be evaluated on a simple 3 point scale (0, 1, or 2). Instructors will use this rubric when scoring student performance on each of the core project **requirements:** \n",
    "\n",
    "Score | Expectations\n",
    "----- | ------------\n",
    "**0** | _Does not meet expectations. Try again._\n",
    "**1** | _Meets expectations. Good job._\n",
    "**2** | _Surpasses expectations. Brilliant!_\n",
    "\n",
    "[For more information on how we grade our DSI projects, see our project grading walkthrough.](https://git.generalassemb.ly/dsi-projects/readme/blob/master/README.md)\n"
   ]
  },
  {
   "cell_type": "markdown",
   "metadata": {},
   "source": [
    "## Loading the Data"
   ]
  },
  {
   "cell_type": "code",
   "execution_count": 1,
   "metadata": {},
   "outputs": [],
   "source": [
    "import numpy as np\n",
    "import pandas as pd"
   ]
  },
  {
   "cell_type": "code",
   "execution_count": 2,
   "metadata": {},
   "outputs": [],
   "source": [
    "jobs = pd.read_csv('./project-4-starter.csv')"
   ]
  },
  {
   "cell_type": "code",
   "execution_count": 3,
   "metadata": {},
   "outputs": [
    {
     "data": {
      "text/html": [
       "<div>\n",
       "<style scoped>\n",
       "    .dataframe tbody tr th:only-of-type {\n",
       "        vertical-align: middle;\n",
       "    }\n",
       "\n",
       "    .dataframe tbody tr th {\n",
       "        vertical-align: top;\n",
       "    }\n",
       "\n",
       "    .dataframe thead th {\n",
       "        text-align: right;\n",
       "    }\n",
       "</style>\n",
       "<table border=\"1\" class=\"dataframe\">\n",
       "  <thead>\n",
       "    <tr style=\"text-align: right;\">\n",
       "      <th></th>\n",
       "      <th>Unnamed: 0</th>\n",
       "      <th>JobId</th>\n",
       "      <th>JobTitle</th>\n",
       "      <th>Company</th>\n",
       "      <th>CompanyAddress</th>\n",
       "      <th>CountryCode</th>\n",
       "      <th>JobType</th>\n",
       "      <th>JobIndustry</th>\n",
       "      <th>JobLevel</th>\n",
       "      <th>SalaryFrom</th>\n",
       "      <th>SalaryTo</th>\n",
       "      <th>Roles</th>\n",
       "      <th>Requirements</th>\n",
       "      <th>JobSite</th>\n",
       "      <th>JobTags</th>\n",
       "      <th>URL</th>\n",
       "    </tr>\n",
       "  </thead>\n",
       "  <tbody>\n",
       "    <tr>\n",
       "      <th>0</th>\n",
       "      <td>0</td>\n",
       "      <td>1284</td>\n",
       "      <td>Data Scientist - Business Analytics</td>\n",
       "      <td>INFINEON TECHNOLOGIES ASIA PACIFIC PTE LTD</td>\n",
       "      <td>INFINEON, 8 KALLANG SECTOR 349282</td>\n",
       "      <td>SG</td>\n",
       "      <td>Permanent</td>\n",
       "      <td>Information Technology</td>\n",
       "      <td>Professional, Executive, Senior Executive</td>\n",
       "      <td>$6,000</td>\n",
       "      <td>to$10,000</td>\n",
       "      <td>Roles &amp; Responsibilities\\nIn your new role you...</td>\n",
       "      <td>Requirements\\nYou are best equipped for this t...</td>\n",
       "      <td>https://www.mycareersfuture.sg/</td>\n",
       "      <td>data scientist</td>\n",
       "      <td>https://www.mycareersfuture.sg/job/data-scient...</td>\n",
       "    </tr>\n",
       "    <tr>\n",
       "      <th>1</th>\n",
       "      <td>1</td>\n",
       "      <td>1285</td>\n",
       "      <td>Data Scientist</td>\n",
       "      <td>ALPHATECH BUSINESS SOLUTIONS PTE. LTD.</td>\n",
       "      <td>NaN</td>\n",
       "      <td>SG</td>\n",
       "      <td>Permanent, Full Time</td>\n",
       "      <td>Information Technology</td>\n",
       "      <td>Professional</td>\n",
       "      <td>$5,500</td>\n",
       "      <td>to$8,000</td>\n",
       "      <td>Roles &amp; Responsibilities\\n·       Use machine ...</td>\n",
       "      <td>Requirements\\n·       Atleast 3+ years of Deep...</td>\n",
       "      <td>https://www.mycareersfuture.sg/</td>\n",
       "      <td>data scientist</td>\n",
       "      <td>https://www.mycareersfuture.sg/job/data-scient...</td>\n",
       "    </tr>\n",
       "    <tr>\n",
       "      <th>2</th>\n",
       "      <td>2</td>\n",
       "      <td>1286</td>\n",
       "      <td>Data Scientist</td>\n",
       "      <td>ITPM CONSULTING PTE. LTD.</td>\n",
       "      <td>BANK OF SINGAPORE CENTRE, 63 MARKET STREET 048942</td>\n",
       "      <td>SG</td>\n",
       "      <td>Permanent, Full Time</td>\n",
       "      <td>Information Technology</td>\n",
       "      <td>Professional</td>\n",
       "      <td>$7,000</td>\n",
       "      <td>to$8,500</td>\n",
       "      <td>Roles &amp; Responsibilities\\nITPM Consulting Pte ...</td>\n",
       "      <td>Requirements\\nResearch and develop statistical...</td>\n",
       "      <td>https://www.mycareersfuture.sg/</td>\n",
       "      <td>data scientist</td>\n",
       "      <td>https://www.mycareersfuture.sg/job/data-scient...</td>\n",
       "    </tr>\n",
       "    <tr>\n",
       "      <th>3</th>\n",
       "      <td>3</td>\n",
       "      <td>1289</td>\n",
       "      <td>Data Scientist</td>\n",
       "      <td>GO-JEK SINGAPORE PTE. LTD.</td>\n",
       "      <td>AXA TOWER, 8 SHENTON WAY 068811</td>\n",
       "      <td>SG</td>\n",
       "      <td>Permanent</td>\n",
       "      <td>Information Technology</td>\n",
       "      <td>Junior Executive</td>\n",
       "      <td>$6,000</td>\n",
       "      <td>to$8,000</td>\n",
       "      <td>Roles &amp; Responsibilities\\nGOJEK is the largest...</td>\n",
       "      <td>Requirements\\nWhat we are looking for:\\nYou gr...</td>\n",
       "      <td>https://www.mycareersfuture.sg/</td>\n",
       "      <td>data scientist</td>\n",
       "      <td>https://www.mycareersfuture.sg/job/data-scient...</td>\n",
       "    </tr>\n",
       "    <tr>\n",
       "      <th>4</th>\n",
       "      <td>4</td>\n",
       "      <td>1290</td>\n",
       "      <td>Data Scientist</td>\n",
       "      <td>GO-JEK SINGAPORE PTE. LTD.</td>\n",
       "      <td>AXA TOWER, 8 SHENTON WAY 068811</td>\n",
       "      <td>SG</td>\n",
       "      <td>Permanent</td>\n",
       "      <td>Information Technology</td>\n",
       "      <td>Junior Executive</td>\n",
       "      <td>$6,000</td>\n",
       "      <td>to$8,000</td>\n",
       "      <td>Roles &amp; Responsibilities\\nGOJEK is the largest...</td>\n",
       "      <td>Requirements\\nWhat we are looking for:\\nYou gr...</td>\n",
       "      <td>https://www.mycareersfuture.sg/</td>\n",
       "      <td>data scientist</td>\n",
       "      <td>https://www.mycareersfuture.sg/job/data-scient...</td>\n",
       "    </tr>\n",
       "  </tbody>\n",
       "</table>\n",
       "</div>"
      ],
      "text/plain": [
       "   Unnamed: 0  JobId                             JobTitle  \\\n",
       "0           0   1284  Data Scientist - Business Analytics   \n",
       "1           1   1285                       Data Scientist   \n",
       "2           2   1286                       Data Scientist   \n",
       "3           3   1289                       Data Scientist   \n",
       "4           4   1290                       Data Scientist   \n",
       "\n",
       "                                      Company  \\\n",
       "0  INFINEON TECHNOLOGIES ASIA PACIFIC PTE LTD   \n",
       "1      ALPHATECH BUSINESS SOLUTIONS PTE. LTD.   \n",
       "2                   ITPM CONSULTING PTE. LTD.   \n",
       "3                  GO-JEK SINGAPORE PTE. LTD.   \n",
       "4                  GO-JEK SINGAPORE PTE. LTD.   \n",
       "\n",
       "                                      CompanyAddress CountryCode  \\\n",
       "0                  INFINEON, 8 KALLANG SECTOR 349282          SG   \n",
       "1                                                NaN          SG   \n",
       "2  BANK OF SINGAPORE CENTRE, 63 MARKET STREET 048942          SG   \n",
       "3                    AXA TOWER, 8 SHENTON WAY 068811          SG   \n",
       "4                    AXA TOWER, 8 SHENTON WAY 068811          SG   \n",
       "\n",
       "                JobType             JobIndustry  \\\n",
       "0             Permanent  Information Technology   \n",
       "1  Permanent, Full Time  Information Technology   \n",
       "2  Permanent, Full Time  Information Technology   \n",
       "3             Permanent  Information Technology   \n",
       "4             Permanent  Information Technology   \n",
       "\n",
       "                                    JobLevel SalaryFrom   SalaryTo  \\\n",
       "0  Professional, Executive, Senior Executive     $6,000  to$10,000   \n",
       "1                               Professional     $5,500   to$8,000   \n",
       "2                               Professional     $7,000   to$8,500   \n",
       "3                           Junior Executive     $6,000   to$8,000   \n",
       "4                           Junior Executive     $6,000   to$8,000   \n",
       "\n",
       "                                               Roles  \\\n",
       "0  Roles & Responsibilities\\nIn your new role you...   \n",
       "1  Roles & Responsibilities\\n·       Use machine ...   \n",
       "2  Roles & Responsibilities\\nITPM Consulting Pte ...   \n",
       "3  Roles & Responsibilities\\nGOJEK is the largest...   \n",
       "4  Roles & Responsibilities\\nGOJEK is the largest...   \n",
       "\n",
       "                                        Requirements  \\\n",
       "0  Requirements\\nYou are best equipped for this t...   \n",
       "1  Requirements\\n·       Atleast 3+ years of Deep...   \n",
       "2  Requirements\\nResearch and develop statistical...   \n",
       "3  Requirements\\nWhat we are looking for:\\nYou gr...   \n",
       "4  Requirements\\nWhat we are looking for:\\nYou gr...   \n",
       "\n",
       "                           JobSite         JobTags  \\\n",
       "0  https://www.mycareersfuture.sg/  data scientist   \n",
       "1  https://www.mycareersfuture.sg/  data scientist   \n",
       "2  https://www.mycareersfuture.sg/  data scientist   \n",
       "3  https://www.mycareersfuture.sg/  data scientist   \n",
       "4  https://www.mycareersfuture.sg/  data scientist   \n",
       "\n",
       "                                                 URL  \n",
       "0  https://www.mycareersfuture.sg/job/data-scient...  \n",
       "1  https://www.mycareersfuture.sg/job/data-scient...  \n",
       "2  https://www.mycareersfuture.sg/job/data-scient...  \n",
       "3  https://www.mycareersfuture.sg/job/data-scient...  \n",
       "4  https://www.mycareersfuture.sg/job/data-scient...  "
      ]
     },
     "execution_count": 3,
     "metadata": {},
     "output_type": "execute_result"
    }
   ],
   "source": [
    "jobs.head()"
   ]
  },
  {
   "cell_type": "code",
   "execution_count": 4,
   "metadata": {},
   "outputs": [
    {
     "data": {
      "text/plain": [
       "(930, 16)"
      ]
     },
     "execution_count": 4,
     "metadata": {},
     "output_type": "execute_result"
    }
   ],
   "source": [
    "jobs.shape"
   ]
  },
  {
   "cell_type": "code",
   "execution_count": 5,
   "metadata": {},
   "outputs": [
    {
     "data": {
      "text/plain": [
       "Unnamed: 0          0\n",
       "JobId               0\n",
       "JobTitle            0\n",
       "Company             0\n",
       "CompanyAddress    192\n",
       "CountryCode         0\n",
       "JobType             0\n",
       "JobIndustry         0\n",
       "JobLevel            5\n",
       "SalaryFrom          0\n",
       "SalaryTo            0\n",
       "Roles               0\n",
       "Requirements       30\n",
       "JobSite             0\n",
       "JobTags             0\n",
       "URL                 0\n",
       "dtype: int64"
      ]
     },
     "execution_count": 5,
     "metadata": {},
     "output_type": "execute_result"
    }
   ],
   "source": [
    "jobs.isnull().sum()"
   ]
  },
  {
   "cell_type": "code",
   "execution_count": 6,
   "metadata": {},
   "outputs": [
    {
     "data": {
      "text/html": [
       "<div>\n",
       "<style scoped>\n",
       "    .dataframe tbody tr th:only-of-type {\n",
       "        vertical-align: middle;\n",
       "    }\n",
       "\n",
       "    .dataframe tbody tr th {\n",
       "        vertical-align: top;\n",
       "    }\n",
       "\n",
       "    .dataframe thead th {\n",
       "        text-align: right;\n",
       "    }\n",
       "</style>\n",
       "<table border=\"1\" class=\"dataframe\">\n",
       "  <thead>\n",
       "    <tr style=\"text-align: right;\">\n",
       "      <th></th>\n",
       "      <th>Unnamed: 0</th>\n",
       "      <th>JobId</th>\n",
       "    </tr>\n",
       "  </thead>\n",
       "  <tbody>\n",
       "    <tr>\n",
       "      <th>count</th>\n",
       "      <td>930.000000</td>\n",
       "      <td>930.000000</td>\n",
       "    </tr>\n",
       "    <tr>\n",
       "      <th>mean</th>\n",
       "      <td>464.500000</td>\n",
       "      <td>1789.862366</td>\n",
       "    </tr>\n",
       "    <tr>\n",
       "      <th>std</th>\n",
       "      <td>268.612174</td>\n",
       "      <td>292.799042</td>\n",
       "    </tr>\n",
       "    <tr>\n",
       "      <th>min</th>\n",
       "      <td>0.000000</td>\n",
       "      <td>1284.000000</td>\n",
       "    </tr>\n",
       "    <tr>\n",
       "      <th>25%</th>\n",
       "      <td>232.250000</td>\n",
       "      <td>1539.250000</td>\n",
       "    </tr>\n",
       "    <tr>\n",
       "      <th>50%</th>\n",
       "      <td>464.500000</td>\n",
       "      <td>1790.500000</td>\n",
       "    </tr>\n",
       "    <tr>\n",
       "      <th>75%</th>\n",
       "      <td>696.750000</td>\n",
       "      <td>2035.750000</td>\n",
       "    </tr>\n",
       "    <tr>\n",
       "      <th>max</th>\n",
       "      <td>929.000000</td>\n",
       "      <td>2302.000000</td>\n",
       "    </tr>\n",
       "  </tbody>\n",
       "</table>\n",
       "</div>"
      ],
      "text/plain": [
       "       Unnamed: 0        JobId\n",
       "count  930.000000   930.000000\n",
       "mean   464.500000  1789.862366\n",
       "std    268.612174   292.799042\n",
       "min      0.000000  1284.000000\n",
       "25%    232.250000  1539.250000\n",
       "50%    464.500000  1790.500000\n",
       "75%    696.750000  2035.750000\n",
       "max    929.000000  2302.000000"
      ]
     },
     "execution_count": 6,
     "metadata": {},
     "output_type": "execute_result"
    }
   ],
   "source": [
    "jobs.describe()"
   ]
  },
  {
   "cell_type": "markdown",
   "metadata": {},
   "source": [
    "## EDA"
   ]
  },
  {
   "cell_type": "markdown",
   "metadata": {},
   "source": [
    "### Dropping columns and rows"
   ]
  },
  {
   "cell_type": "code",
   "execution_count": 7,
   "metadata": {},
   "outputs": [],
   "source": [
    "# Unnamed column seems to be the running id, ok to drop\n",
    "# JobId will not be useful in analysis\n",
    "# Job location is unlikely to influence salaries as SG is fairly small and does not have urban/rural divides, hence is unlikely to be significant in determining salary\n",
    "# All jobs are located in SG so they are not useful in analysis\n",
    "# Using lowest salary estimation is sufficient as company may set higher salary boundary to be unrealistically high to attract interest\n",
    "# All observations taken from the same website, so can drop JobSite column\n",
    "# URL is not relevant, can drop\n",
    "jobs.drop(columns=['Unnamed: 0','JobId','CompanyAddress','CountryCode','SalaryTo','JobSite','URL'],inplace=True)"
   ]
  },
  {
   "cell_type": "code",
   "execution_count": 8,
   "metadata": {},
   "outputs": [],
   "source": [
    "# as job requirements will be used to predict job title, must drop null values\n",
    "jobs.dropna(inplace=True)"
   ]
  },
  {
   "cell_type": "code",
   "execution_count": 9,
   "metadata": {},
   "outputs": [
    {
     "data": {
      "text/plain": [
       "(900, 9)"
      ]
     },
     "execution_count": 9,
     "metadata": {},
     "output_type": "execute_result"
    }
   ],
   "source": [
    "jobs.shape"
   ]
  },
  {
   "cell_type": "code",
   "execution_count": 10,
   "metadata": {},
   "outputs": [],
   "source": [
    "# Checking for duplicates\n",
    "duplicates = jobs[jobs.duplicated()].index.values\n",
    "\n",
    "#drop duplicate rows\n",
    "#reset the index to facilitate indexing for subsequent steps\n",
    "jobs.drop(index=duplicates,inplace=True)\n",
    "jobs.reset_index(drop=True,inplace=True)"
   ]
  },
  {
   "cell_type": "code",
   "execution_count": 11,
   "metadata": {},
   "outputs": [
    {
     "data": {
      "text/plain": [
       "(867, 9)"
      ]
     },
     "execution_count": 11,
     "metadata": {},
     "output_type": "execute_result"
    }
   ],
   "source": [
    "jobs.shape"
   ]
  },
  {
   "cell_type": "markdown",
   "metadata": {},
   "source": [
    "### Changing data types and removing unwanted text"
   ]
  },
  {
   "cell_type": "code",
   "execution_count": 12,
   "metadata": {},
   "outputs": [],
   "source": [
    "# remove notation in salary details\n",
    "jobs['SalaryFrom'] = jobs['SalaryFrom'].apply(lambda x:x.replace('$','')).apply(lambda x:x.replace(',',''))\n",
    "jobs['SalaryFrom'] = pd.to_numeric(jobs['SalaryFrom'])"
   ]
  },
  {
   "cell_type": "code",
   "execution_count": 13,
   "metadata": {},
   "outputs": [],
   "source": [
    "# clean up roles and requirements column\n",
    "jobs['Roles'] = jobs['Roles'].apply(lambda x:x.replace('Roles & Responsibilities','')).apply(lambda x:x.replace('\\n',' '))\n",
    "jobs['Requirements'] = jobs['Requirements'].astype('str').apply(lambda x:x.replace('Requirements\\n','')).apply(lambda x:x.replace('\\n',' '))"
   ]
  },
  {
   "cell_type": "markdown",
   "metadata": {},
   "source": [
    "### Checking for consistency of data"
   ]
  },
  {
   "cell_type": "code",
   "execution_count": 14,
   "metadata": {},
   "outputs": [
    {
     "data": {
      "text/plain": [
       "Full Time                         349\n",
       "Permanent, Full Time              181\n",
       "Permanent                         139\n",
       "Contract, Full Time               116\n",
       "Contract                           69\n",
       "Internship                          4\n",
       "Full Time, Internship               3\n",
       "Permanent, Contract                 2\n",
       "Temporary, Contract                 1\n",
       "Permanent, Contract, Full Time      1\n",
       "Part Time, Full Time                1\n",
       "Temporary                           1\n",
       "Name: JobType, dtype: int64"
      ]
     },
     "execution_count": 14,
     "metadata": {},
     "output_type": "execute_result"
    }
   ],
   "source": [
    "jobs['JobType'].value_counts()"
   ]
  },
  {
   "cell_type": "code",
   "execution_count": 15,
   "metadata": {},
   "outputs": [],
   "source": [
    "# 'temporary' appears to be a misclassification of 'contract'\n",
    "jobs['JobType'] = jobs['JobType'].apply(lambda x:x.replace('Temporary','Contract'))\n",
    "\n",
    "#dropping extra 'contract'\n",
    "jobs.at[jobs[jobs['JobType']=='Contract, Contract'].index.values,'JobType'] = 'Contract'\n",
    "\n",
    "# Part time, Full time doesn't make sense. Impute with Part time as that is likely to be on the lower end of the salary range\n",
    "jobs['JobType'] = jobs['JobType'].apply(lambda x:x.replace('Part Time, Full Time','Part Time'))"
   ]
  },
  {
   "cell_type": "markdown",
   "metadata": {},
   "source": [
    "## Feature Engineering"
   ]
  },
  {
   "cell_type": "markdown",
   "metadata": {},
   "source": [
    "### For Job Type"
   ]
  },
  {
   "cell_type": "code",
   "execution_count": 16,
   "metadata": {},
   "outputs": [],
   "source": [
    "#create new dataframe column for each job type for boolean results of string search from the original job type column\n",
    "#replace True with 1 and False with 0 to convert into categorical feature for modelling later\n",
    "\n",
    "jobs['JobType_Permanent'] = jobs['JobType'].str.contains('Permanent').astype('str').apply(lambda x:x.replace('True','1')).apply(lambda x:x.replace('False','0'))\n",
    "jobs['JobType_Contract'] = jobs['JobType'].str.contains('Contract').astype('str').apply(lambda x:x.replace('True','1')).apply(lambda x:x.replace('False','0'))\n",
    "jobs['JobType_FullTime'] = jobs['JobType'].str.contains('Full Time').astype('str').apply(lambda x:x.replace('True','1')).apply(lambda x:x.replace('False','0'))\n",
    "jobs['JobType_PartTime'] = jobs['JobType'].str.contains('Part Time').astype('str').apply(lambda x:x.replace('True','1')).apply(lambda x:x.replace('False','0'))\n",
    "jobs['JobType_Internship'] = jobs['JobType'].str.contains('Internship').astype('str').apply(lambda x:x.replace('True','1')).apply(lambda x:x.replace('False','0'))\n",
    "\n",
    "#drop the original job type column to prevent creating noise\n",
    "jobs.drop(columns='JobType',inplace=True)"
   ]
  },
  {
   "cell_type": "markdown",
   "metadata": {},
   "source": [
    "### For Job Level"
   ]
  },
  {
   "cell_type": "code",
   "execution_count": 17,
   "metadata": {},
   "outputs": [
    {
     "data": {
      "text/plain": [
       "array(['Professional, Executive, Senior Executive', 'Professional',\n",
       "       'Junior Executive', 'Professional, Senior Executive', 'Executive',\n",
       "       'Middle Management, Manager', 'Manager', 'Senior Executive',\n",
       "       'Manager, Professional', 'Senior Management, Manager',\n",
       "       'Middle Management, Manager, Professional', 'Middle Management',\n",
       "       'Senior Management', 'Fresh/entry level',\n",
       "       'Manager, Senior Executive', 'Non-executive',\n",
       "       'Fresh/entry level, Executive',\n",
       "       'Executive, Junior Executive, Senior Executive',\n",
       "       'Manager, Professional, Executive',\n",
       "       'Non-executive, Junior Executive', 'Professional, Executive',\n",
       "       'Fresh/entry level, Professional, Junior Executive',\n",
       "       'Manager, Executive, Senior Executive',\n",
       "       'Fresh/entry level, Professional', 'Executive, Senior Executive',\n",
       "       'Executive, Junior Executive', 'Professional, Non-executive',\n",
       "       'Junior Executive, Senior Executive',\n",
       "       'Senior Management, Professional',\n",
       "       'Middle Management, Manager, Fresh/entry level, Professional, Executive, Non-executive',\n",
       "       'Middle Management, Manager, Fresh/entry level, Executive, Non-executive'],\n",
       "      dtype=object)"
      ]
     },
     "execution_count": 17,
     "metadata": {},
     "output_type": "execute_result"
    }
   ],
   "source": [
    "jobs['JobLevel'].unique()"
   ]
  },
  {
   "cell_type": "code",
   "execution_count": 18,
   "metadata": {},
   "outputs": [],
   "source": [
    "# job levels are absolute so we must select only one per job title\n",
    "# Since I used lowest salary, I will impute each title with the lowest job title available\n",
    "# Job levels in ascending order: Non-executive, Fresh/entry level, Junior Executive, Executive, Senior Executive, Manager, Middle Management, Senior Management, Professional\n",
    "# create empty list to run if statements\n",
    "\n",
    "JobLevels = []\n",
    "\n",
    "for x in jobs['JobLevel']:\n",
    "    if x.find('Non-executive')!=-1:\n",
    "        JobLevels.append('Non-executive')\n",
    "    elif x.find('Fresh/entry level')!=-1:\n",
    "        JobLevels.append('Fresh/entry level')\n",
    "    elif x.find('Junior Executive')!=-1:\n",
    "        JobLevels.append('Junior Executive')\n",
    "    elif x.find('Senior')==-1 & x.find('Executive')!=1:\n",
    "        JobLevels.append('Executive')\n",
    "    elif x.find('Senior Executive')!=-1:\n",
    "        JobLevels.append('Senior Executive')\n",
    "    elif x.find('Manager')!=-1:\n",
    "        JobLevels.append('Manager')\n",
    "    elif x.find('Middle Management')!=-1:\n",
    "        JobLevels.append('Middle Management')\n",
    "    elif x.find('Senior Management')!=-1:\n",
    "        JobLevels.append('Senior Management')\n",
    "    else:\n",
    "        JobLevels.append('Professional')\n",
    "        \n",
    "# replace job level column by populating with the list\n",
    "jobs['JobLevels'] = JobLevels\n",
    "\n",
    "#drop the original JobLevel column\n",
    "jobs.drop(columns='JobLevel',inplace=True)\n",
    "\n",
    "# dummy this variable for modelling later\n",
    "joblevel_dummies = pd.get_dummies(jobs['JobLevels'],drop_first=True)\n",
    "jobs = pd.concat([jobs,joblevel_dummies],axis=1)"
   ]
  },
  {
   "cell_type": "markdown",
   "metadata": {},
   "source": [
    "### For Job Industry"
   ]
  },
  {
   "cell_type": "code",
   "execution_count": 19,
   "metadata": {},
   "outputs": [],
   "source": [
    "# do the same thing as job type for the industries, but only for the top 10 most frequently occuring industries\n",
    "# including all of them is likely to introduce unnecessary noise\n",
    "# even though 'others' is in the top 10, it is likely a mix of many other industries and hence more likely to be noise than signal\n",
    "\n",
    "jobs['JobIndustry_IT'] = jobs['JobIndustry'].str.contains('Information Technology').astype('str').apply(lambda x:x.replace('True','1')).apply(lambda x:x.replace('False','0'))\n",
    "jobs['JobIndustry_Finance'] = jobs['JobIndustry'].str.contains('Banking and Finance').astype('str').apply(lambda x:x.replace('True','1')).apply(lambda x:x.replace('False','0'))\n",
    "jobs['JobIndustry_Sciences'] = jobs['JobIndustry'].str.contains('Sciences / Laboratory / R&D').astype('str').apply(lambda x:x.replace('True','1')).apply(lambda x:x.replace('False','0'))\n",
    "jobs['JobIndustry_Engineering'] = jobs['JobIndustry'].str.contains('Engineering').astype('str').apply(lambda x:x.replace('True','1')).apply(lambda x:x.replace('False','0'))\n",
    "jobs['JobIndustry_Consulting'] = jobs['JobIndustry'].str.contains('Consulting').astype('str').apply(lambda x:x.replace('True','1')).apply(lambda x:x.replace('False','0'))\n",
    "jobs['JobIndustry_Manufacturing'] = jobs['JobIndustry'].str.contains('Manufacturing').astype('str').apply(lambda x:x.replace('True','1')).apply(lambda x:x.replace('False','0'))"
   ]
  },
  {
   "cell_type": "code",
   "execution_count": 20,
   "metadata": {},
   "outputs": [
    {
     "data": {
      "text/html": [
       "<div>\n",
       "<style scoped>\n",
       "    .dataframe tbody tr th:only-of-type {\n",
       "        vertical-align: middle;\n",
       "    }\n",
       "\n",
       "    .dataframe tbody tr th {\n",
       "        vertical-align: top;\n",
       "    }\n",
       "\n",
       "    .dataframe thead th {\n",
       "        text-align: right;\n",
       "    }\n",
       "</style>\n",
       "<table border=\"1\" class=\"dataframe\">\n",
       "  <thead>\n",
       "    <tr style=\"text-align: right;\">\n",
       "      <th></th>\n",
       "      <th>JobTitle</th>\n",
       "      <th>Company</th>\n",
       "      <th>JobIndustry</th>\n",
       "      <th>SalaryFrom</th>\n",
       "      <th>Roles</th>\n",
       "      <th>Requirements</th>\n",
       "      <th>JobTags</th>\n",
       "      <th>JobType_Permanent</th>\n",
       "      <th>JobType_Contract</th>\n",
       "      <th>JobType_FullTime</th>\n",
       "      <th>...</th>\n",
       "      <th>Non-executive</th>\n",
       "      <th>Professional</th>\n",
       "      <th>Senior Executive</th>\n",
       "      <th>Senior Management</th>\n",
       "      <th>JobIndustry_IT</th>\n",
       "      <th>JobIndustry_Finance</th>\n",
       "      <th>JobIndustry_Sciences</th>\n",
       "      <th>JobIndustry_Engineering</th>\n",
       "      <th>JobIndustry_Consulting</th>\n",
       "      <th>JobIndustry_Manufacturing</th>\n",
       "    </tr>\n",
       "  </thead>\n",
       "  <tbody>\n",
       "    <tr>\n",
       "      <th>0</th>\n",
       "      <td>Data Scientist - Business Analytics</td>\n",
       "      <td>INFINEON TECHNOLOGIES ASIA PACIFIC PTE LTD</td>\n",
       "      <td>Information Technology</td>\n",
       "      <td>6000</td>\n",
       "      <td>In your new role you will: Drive prove of con...</td>\n",
       "      <td>You are best equipped for this task if you hav...</td>\n",
       "      <td>data scientist</td>\n",
       "      <td>1</td>\n",
       "      <td>0</td>\n",
       "      <td>0</td>\n",
       "      <td>...</td>\n",
       "      <td>0</td>\n",
       "      <td>0</td>\n",
       "      <td>1</td>\n",
       "      <td>0</td>\n",
       "      <td>1</td>\n",
       "      <td>0</td>\n",
       "      <td>0</td>\n",
       "      <td>0</td>\n",
       "      <td>0</td>\n",
       "      <td>0</td>\n",
       "    </tr>\n",
       "    <tr>\n",
       "      <th>1</th>\n",
       "      <td>Data Scientist</td>\n",
       "      <td>ALPHATECH BUSINESS SOLUTIONS PTE. LTD.</td>\n",
       "      <td>Information Technology</td>\n",
       "      <td>5500</td>\n",
       "      <td>·       Use machine learning and analytical t...</td>\n",
       "      <td>·       Atleast 3+ years of Deep Learning and ...</td>\n",
       "      <td>data scientist</td>\n",
       "      <td>1</td>\n",
       "      <td>0</td>\n",
       "      <td>1</td>\n",
       "      <td>...</td>\n",
       "      <td>0</td>\n",
       "      <td>0</td>\n",
       "      <td>0</td>\n",
       "      <td>0</td>\n",
       "      <td>1</td>\n",
       "      <td>0</td>\n",
       "      <td>0</td>\n",
       "      <td>0</td>\n",
       "      <td>0</td>\n",
       "      <td>0</td>\n",
       "    </tr>\n",
       "    <tr>\n",
       "      <th>2</th>\n",
       "      <td>Data Scientist</td>\n",
       "      <td>ITPM CONSULTING PTE. LTD.</td>\n",
       "      <td>Information Technology</td>\n",
       "      <td>7000</td>\n",
       "      <td>ITPM Consulting Pte Ltd is inviting Data scie...</td>\n",
       "      <td>Research and develop statistical learning mode...</td>\n",
       "      <td>data scientist</td>\n",
       "      <td>1</td>\n",
       "      <td>0</td>\n",
       "      <td>1</td>\n",
       "      <td>...</td>\n",
       "      <td>0</td>\n",
       "      <td>0</td>\n",
       "      <td>0</td>\n",
       "      <td>0</td>\n",
       "      <td>1</td>\n",
       "      <td>0</td>\n",
       "      <td>0</td>\n",
       "      <td>0</td>\n",
       "      <td>0</td>\n",
       "      <td>0</td>\n",
       "    </tr>\n",
       "    <tr>\n",
       "      <th>3</th>\n",
       "      <td>Data Scientist</td>\n",
       "      <td>GO-JEK SINGAPORE PTE. LTD.</td>\n",
       "      <td>Information Technology</td>\n",
       "      <td>6000</td>\n",
       "      <td>GOJEK is the largest consumer technology comp...</td>\n",
       "      <td>What we are looking for: You greatly value hum...</td>\n",
       "      <td>data scientist</td>\n",
       "      <td>1</td>\n",
       "      <td>0</td>\n",
       "      <td>0</td>\n",
       "      <td>...</td>\n",
       "      <td>0</td>\n",
       "      <td>0</td>\n",
       "      <td>0</td>\n",
       "      <td>0</td>\n",
       "      <td>1</td>\n",
       "      <td>0</td>\n",
       "      <td>0</td>\n",
       "      <td>0</td>\n",
       "      <td>0</td>\n",
       "      <td>0</td>\n",
       "    </tr>\n",
       "    <tr>\n",
       "      <th>4</th>\n",
       "      <td>Data Analyst</td>\n",
       "      <td>NTT DATA SINGAPORE PTE. LTD.</td>\n",
       "      <td>Banking and Finance, Information Technology</td>\n",
       "      <td>5000</td>\n",
       "      <td>The data analyst will provide the big data an...</td>\n",
       "      <td>Bachelors/Masters in Computer Science, Statist...</td>\n",
       "      <td>data scientist</td>\n",
       "      <td>0</td>\n",
       "      <td>1</td>\n",
       "      <td>0</td>\n",
       "      <td>...</td>\n",
       "      <td>0</td>\n",
       "      <td>0</td>\n",
       "      <td>1</td>\n",
       "      <td>0</td>\n",
       "      <td>1</td>\n",
       "      <td>1</td>\n",
       "      <td>0</td>\n",
       "      <td>0</td>\n",
       "      <td>0</td>\n",
       "      <td>0</td>\n",
       "    </tr>\n",
       "  </tbody>\n",
       "</table>\n",
       "<p>5 rows × 26 columns</p>\n",
       "</div>"
      ],
      "text/plain": [
       "                              JobTitle  \\\n",
       "0  Data Scientist - Business Analytics   \n",
       "1                       Data Scientist   \n",
       "2                       Data Scientist   \n",
       "3                       Data Scientist   \n",
       "4                         Data Analyst   \n",
       "\n",
       "                                      Company  \\\n",
       "0  INFINEON TECHNOLOGIES ASIA PACIFIC PTE LTD   \n",
       "1      ALPHATECH BUSINESS SOLUTIONS PTE. LTD.   \n",
       "2                   ITPM CONSULTING PTE. LTD.   \n",
       "3                  GO-JEK SINGAPORE PTE. LTD.   \n",
       "4                NTT DATA SINGAPORE PTE. LTD.   \n",
       "\n",
       "                                   JobIndustry  SalaryFrom  \\\n",
       "0                       Information Technology        6000   \n",
       "1                       Information Technology        5500   \n",
       "2                       Information Technology        7000   \n",
       "3                       Information Technology        6000   \n",
       "4  Banking and Finance, Information Technology        5000   \n",
       "\n",
       "                                               Roles  \\\n",
       "0   In your new role you will: Drive prove of con...   \n",
       "1   ·       Use machine learning and analytical t...   \n",
       "2   ITPM Consulting Pte Ltd is inviting Data scie...   \n",
       "3   GOJEK is the largest consumer technology comp...   \n",
       "4   The data analyst will provide the big data an...   \n",
       "\n",
       "                                        Requirements         JobTags  \\\n",
       "0  You are best equipped for this task if you hav...  data scientist   \n",
       "1  ·       Atleast 3+ years of Deep Learning and ...  data scientist   \n",
       "2  Research and develop statistical learning mode...  data scientist   \n",
       "3  What we are looking for: You greatly value hum...  data scientist   \n",
       "4  Bachelors/Masters in Computer Science, Statist...  data scientist   \n",
       "\n",
       "  JobType_Permanent JobType_Contract JobType_FullTime  \\\n",
       "0                 1                0                0   \n",
       "1                 1                0                1   \n",
       "2                 1                0                1   \n",
       "3                 1                0                0   \n",
       "4                 0                1                0   \n",
       "\n",
       "             ...             Non-executive Professional Senior Executive  \\\n",
       "0            ...                         0            0                1   \n",
       "1            ...                         0            0                0   \n",
       "2            ...                         0            0                0   \n",
       "3            ...                         0            0                0   \n",
       "4            ...                         0            0                1   \n",
       "\n",
       "   Senior Management  JobIndustry_IT  JobIndustry_Finance  \\\n",
       "0                  0               1                    0   \n",
       "1                  0               1                    0   \n",
       "2                  0               1                    0   \n",
       "3                  0               1                    0   \n",
       "4                  0               1                    1   \n",
       "\n",
       "   JobIndustry_Sciences  JobIndustry_Engineering  JobIndustry_Consulting  \\\n",
       "0                     0                        0                       0   \n",
       "1                     0                        0                       0   \n",
       "2                     0                        0                       0   \n",
       "3                     0                        0                       0   \n",
       "4                     0                        0                       0   \n",
       "\n",
       "   JobIndustry_Manufacturing  \n",
       "0                          0  \n",
       "1                          0  \n",
       "2                          0  \n",
       "3                          0  \n",
       "4                          0  \n",
       "\n",
       "[5 rows x 26 columns]"
      ]
     },
     "execution_count": 20,
     "metadata": {},
     "output_type": "execute_result"
    }
   ],
   "source": [
    "jobs.head()"
   ]
  },
  {
   "cell_type": "code",
   "execution_count": 21,
   "metadata": {},
   "outputs": [
    {
     "data": {
      "text/plain": [
       "JobTitle                     object\n",
       "Company                      object\n",
       "JobIndustry                  object\n",
       "SalaryFrom                    int64\n",
       "Roles                        object\n",
       "Requirements                 object\n",
       "JobTags                      object\n",
       "JobType_Permanent            object\n",
       "JobType_Contract             object\n",
       "JobType_FullTime             object\n",
       "JobType_PartTime             object\n",
       "JobType_Internship           object\n",
       "JobLevels                    object\n",
       "Fresh/entry level             uint8\n",
       "Junior Executive              uint8\n",
       "Manager                       uint8\n",
       "Non-executive                 uint8\n",
       "Professional                  uint8\n",
       "Senior Executive              uint8\n",
       "Senior Management             uint8\n",
       "JobIndustry_IT               object\n",
       "JobIndustry_Finance          object\n",
       "JobIndustry_Sciences         object\n",
       "JobIndustry_Engineering      object\n",
       "JobIndustry_Consulting       object\n",
       "JobIndustry_Manufacturing    object\n",
       "dtype: object"
      ]
     },
     "execution_count": 21,
     "metadata": {},
     "output_type": "execute_result"
    }
   ],
   "source": [
    "jobs.dtypes"
   ]
  },
  {
   "cell_type": "markdown",
   "metadata": {},
   "source": [
    "## Question 1"
   ]
  },
  {
   "cell_type": "code",
   "execution_count": 22,
   "metadata": {},
   "outputs": [],
   "source": [
    "from sklearn.preprocessing import StandardScaler\n",
    "from sklearn.model_selection import train_test_split, cross_val_score\n",
    "from sklearn.linear_model import LogisticRegression, LinearRegression, Lasso, LassoCV"
   ]
  },
  {
   "cell_type": "code",
   "execution_count": 23,
   "metadata": {},
   "outputs": [
    {
     "data": {
      "text/plain": [
       "Index(['JobTitle', 'Company', 'JobIndustry', 'SalaryFrom', 'Roles',\n",
       "       'Requirements', 'JobTags', 'JobType_Permanent', 'JobType_Contract',\n",
       "       'JobType_FullTime', 'JobType_PartTime', 'JobType_Internship',\n",
       "       'JobLevels', 'Fresh/entry level', 'Junior Executive', 'Manager',\n",
       "       'Non-executive', 'Professional', 'Senior Executive',\n",
       "       'Senior Management', 'JobIndustry_IT', 'JobIndustry_Finance',\n",
       "       'JobIndustry_Sciences', 'JobIndustry_Engineering',\n",
       "       'JobIndustry_Consulting', 'JobIndustry_Manufacturing'],\n",
       "      dtype='object')"
      ]
     },
     "execution_count": 23,
     "metadata": {},
     "output_type": "execute_result"
    }
   ],
   "source": [
    "jobs.columns"
   ]
  },
  {
   "cell_type": "code",
   "execution_count": 24,
   "metadata": {},
   "outputs": [],
   "source": [
    "# defining target and values dataset as X and y\n",
    "# I am using JobTags as a substitute of job title\n",
    "X = jobs.drop(columns=['JobTitle','SalaryFrom','Roles','Requirements'])\n",
    "y = jobs['SalaryFrom'].values\n",
    "\n",
    "# doing train-test split of the dataset\n",
    "X_train, X_test, y_train, y_test = train_test_split(X, y, random_state=1)"
   ]
  },
  {
   "cell_type": "markdown",
   "metadata": {},
   "source": [
    "No scaling of the dataset. As there are no numerical features in the training dataset we do not need to scale it (other than the manually dummied categories which should remain as 0s and 1s anyway)"
   ]
  },
  {
   "cell_type": "markdown",
   "metadata": {},
   "source": [
    "### Model 1: Linear Regression"
   ]
  },
  {
   "cell_type": "code",
   "execution_count": 25,
   "metadata": {},
   "outputs": [
    {
     "ename": "ValueError",
     "evalue": "could not convert string to float: 'Executive'",
     "output_type": "error",
     "traceback": [
      "\u001b[1;31m---------------------------------------------------------------------------\u001b[0m",
      "\u001b[1;31mValueError\u001b[0m                                Traceback (most recent call last)",
      "\u001b[1;32m<ipython-input-25-d4fa35545b79>\u001b[0m in \u001b[0;36m<module>\u001b[1;34m()\u001b[0m\n\u001b[0;32m      2\u001b[0m \u001b[0mlr\u001b[0m \u001b[1;33m=\u001b[0m \u001b[0mLinearRegression\u001b[0m\u001b[1;33m(\u001b[0m\u001b[1;33m)\u001b[0m\u001b[1;33m\u001b[0m\u001b[0m\n\u001b[0;32m      3\u001b[0m \u001b[1;33m\u001b[0m\u001b[0m\n\u001b[1;32m----> 4\u001b[1;33m \u001b[0mlr\u001b[0m\u001b[1;33m.\u001b[0m\u001b[0mfit\u001b[0m\u001b[1;33m(\u001b[0m\u001b[0mX_train\u001b[0m\u001b[1;33m,\u001b[0m \u001b[0my_train\u001b[0m\u001b[1;33m)\u001b[0m\u001b[1;33m\u001b[0m\u001b[0m\n\u001b[0m\u001b[0;32m      5\u001b[0m \u001b[1;33m\u001b[0m\u001b[0m\n\u001b[0;32m      6\u001b[0m \u001b[1;31m# score the fit model using the train data\u001b[0m\u001b[1;33m\u001b[0m\u001b[1;33m\u001b[0m\u001b[0m\n",
      "\u001b[1;32mC:\\ProgramData\\Anaconda3\\lib\\site-packages\\sklearn\\linear_model\\base.py\u001b[0m in \u001b[0;36mfit\u001b[1;34m(self, X, y, sample_weight)\u001b[0m\n\u001b[0;32m    480\u001b[0m         \u001b[0mn_jobs_\u001b[0m \u001b[1;33m=\u001b[0m \u001b[0mself\u001b[0m\u001b[1;33m.\u001b[0m\u001b[0mn_jobs\u001b[0m\u001b[1;33m\u001b[0m\u001b[0m\n\u001b[0;32m    481\u001b[0m         X, y = check_X_y(X, y, accept_sparse=['csr', 'csc', 'coo'],\n\u001b[1;32m--> 482\u001b[1;33m                          y_numeric=True, multi_output=True)\n\u001b[0m\u001b[0;32m    483\u001b[0m \u001b[1;33m\u001b[0m\u001b[0m\n\u001b[0;32m    484\u001b[0m         \u001b[1;32mif\u001b[0m \u001b[0msample_weight\u001b[0m \u001b[1;32mis\u001b[0m \u001b[1;32mnot\u001b[0m \u001b[1;32mNone\u001b[0m \u001b[1;32mand\u001b[0m \u001b[0mnp\u001b[0m\u001b[1;33m.\u001b[0m\u001b[0matleast_1d\u001b[0m\u001b[1;33m(\u001b[0m\u001b[0msample_weight\u001b[0m\u001b[1;33m)\u001b[0m\u001b[1;33m.\u001b[0m\u001b[0mndim\u001b[0m \u001b[1;33m>\u001b[0m \u001b[1;36m1\u001b[0m\u001b[1;33m:\u001b[0m\u001b[1;33m\u001b[0m\u001b[0m\n",
      "\u001b[1;32mC:\\ProgramData\\Anaconda3\\lib\\site-packages\\sklearn\\utils\\validation.py\u001b[0m in \u001b[0;36mcheck_X_y\u001b[1;34m(X, y, accept_sparse, dtype, order, copy, force_all_finite, ensure_2d, allow_nd, multi_output, ensure_min_samples, ensure_min_features, y_numeric, warn_on_dtype, estimator)\u001b[0m\n\u001b[0;32m    571\u001b[0m     X = check_array(X, accept_sparse, dtype, order, copy, force_all_finite,\n\u001b[0;32m    572\u001b[0m                     \u001b[0mensure_2d\u001b[0m\u001b[1;33m,\u001b[0m \u001b[0mallow_nd\u001b[0m\u001b[1;33m,\u001b[0m \u001b[0mensure_min_samples\u001b[0m\u001b[1;33m,\u001b[0m\u001b[1;33m\u001b[0m\u001b[0m\n\u001b[1;32m--> 573\u001b[1;33m                     ensure_min_features, warn_on_dtype, estimator)\n\u001b[0m\u001b[0;32m    574\u001b[0m     \u001b[1;32mif\u001b[0m \u001b[0mmulti_output\u001b[0m\u001b[1;33m:\u001b[0m\u001b[1;33m\u001b[0m\u001b[0m\n\u001b[0;32m    575\u001b[0m         y = check_array(y, 'csr', force_all_finite=True, ensure_2d=False,\n",
      "\u001b[1;32mC:\\ProgramData\\Anaconda3\\lib\\site-packages\\sklearn\\utils\\validation.py\u001b[0m in \u001b[0;36mcheck_array\u001b[1;34m(array, accept_sparse, dtype, order, copy, force_all_finite, ensure_2d, allow_nd, ensure_min_samples, ensure_min_features, warn_on_dtype, estimator)\u001b[0m\n\u001b[0;32m    446\u001b[0m         \u001b[1;31m# make sure we actually converted to numeric:\u001b[0m\u001b[1;33m\u001b[0m\u001b[1;33m\u001b[0m\u001b[0m\n\u001b[0;32m    447\u001b[0m         \u001b[1;32mif\u001b[0m \u001b[0mdtype_numeric\u001b[0m \u001b[1;32mand\u001b[0m \u001b[0marray\u001b[0m\u001b[1;33m.\u001b[0m\u001b[0mdtype\u001b[0m\u001b[1;33m.\u001b[0m\u001b[0mkind\u001b[0m \u001b[1;33m==\u001b[0m \u001b[1;34m\"O\"\u001b[0m\u001b[1;33m:\u001b[0m\u001b[1;33m\u001b[0m\u001b[0m\n\u001b[1;32m--> 448\u001b[1;33m             \u001b[0marray\u001b[0m \u001b[1;33m=\u001b[0m \u001b[0marray\u001b[0m\u001b[1;33m.\u001b[0m\u001b[0mastype\u001b[0m\u001b[1;33m(\u001b[0m\u001b[0mnp\u001b[0m\u001b[1;33m.\u001b[0m\u001b[0mfloat64\u001b[0m\u001b[1;33m)\u001b[0m\u001b[1;33m\u001b[0m\u001b[0m\n\u001b[0m\u001b[0;32m    449\u001b[0m         \u001b[1;32mif\u001b[0m \u001b[1;32mnot\u001b[0m \u001b[0mallow_nd\u001b[0m \u001b[1;32mand\u001b[0m \u001b[0marray\u001b[0m\u001b[1;33m.\u001b[0m\u001b[0mndim\u001b[0m \u001b[1;33m>=\u001b[0m \u001b[1;36m3\u001b[0m\u001b[1;33m:\u001b[0m\u001b[1;33m\u001b[0m\u001b[0m\n\u001b[0;32m    450\u001b[0m             raise ValueError(\"Found array with dim %d. %s expected <= 2.\"\n",
      "\u001b[1;31mValueError\u001b[0m: could not convert string to float: 'Executive'"
     ]
    }
   ],
   "source": [
    "#building basic linear regression model\n",
    "lr = LinearRegression()\n",
    "\n",
    "lr.fit(X_train, y_train)\n",
    "\n",
    "# score the fit model using the train data\n",
    "print(lr.score(X_train, y_train))\n",
    "\n",
    "#compare with test model\n",
    "print(lr.score(X_test, y_test))\n",
    "\n",
    "#some dramatic overfitting is happening!"
   ]
  },
  {
   "cell_type": "code",
   "execution_count": null,
   "metadata": {},
   "outputs": [],
   "source": [
    "optimal_lasso = LassoCV(n_alphas=1000, cv=10, verbose=1, n_jobs= 6)\n",
    "optimal_lasso.fit(X_train, y_train)\n",
    "\n",
    "print optimal_lasso.alpha_"
   ]
  },
  {
   "cell_type": "code",
   "execution_count": null,
   "metadata": {},
   "outputs": [],
   "source": []
  },
  {
   "cell_type": "code",
   "execution_count": null,
   "metadata": {},
   "outputs": [],
   "source": []
  },
  {
   "cell_type": "code",
   "execution_count": null,
   "metadata": {},
   "outputs": [],
   "source": []
  },
  {
   "cell_type": "code",
   "execution_count": null,
   "metadata": {},
   "outputs": [],
   "source": []
  },
  {
   "cell_type": "code",
   "execution_count": null,
   "metadata": {},
   "outputs": [],
   "source": []
  }
 ],
 "metadata": {
  "kernelspec": {
   "display_name": "Python 3",
   "language": "python",
   "name": "python3"
  },
  "language_info": {
   "codemirror_mode": {
    "name": "ipython",
    "version": 3
   },
   "file_extension": ".py",
   "mimetype": "text/x-python",
   "name": "python",
   "nbconvert_exporter": "python",
   "pygments_lexer": "ipython3",
   "version": "3.7.0"
  }
 },
 "nbformat": 4,
 "nbformat_minor": 2
}
